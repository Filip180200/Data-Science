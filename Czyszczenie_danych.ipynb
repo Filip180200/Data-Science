{
  "nbformat": 4,
  "nbformat_minor": 0,
  "metadata": {
    "colab": {
      "provenance": [],
      "mount_file_id": "1ElOOroohoGmn-IznKWJSW8E13melxm1C",
      "authorship_tag": "ABX9TyOHLW7C8lNXlvGZrBKjjeoY",
      "include_colab_link": true
    },
    "kernelspec": {
      "name": "python3",
      "display_name": "Python 3"
    },
    "language_info": {
      "name": "python"
    }
  },
  "cells": [
    {
      "cell_type": "markdown",
      "metadata": {
        "id": "view-in-github",
        "colab_type": "text"
      },
      "source": [
        "<a href=\"https://colab.research.google.com/github/Filip180200/Data-Science/blob/main/Czyszczenie_danych.ipynb\" target=\"_parent\"><img src=\"https://colab.research.google.com/assets/colab-badge.svg\" alt=\"Open In Colab\"/></a>"
      ]
    },
    {
      "cell_type": "code",
      "execution_count": 10,
      "metadata": {
        "colab": {
          "base_uri": "https://localhost:8080/"
        },
        "id": "OCMTGNe5k23m",
        "outputId": "b4f64760-fe09-4103-9b4f-6f50370958d1"
      },
      "outputs": [
        {
          "output_type": "stream",
          "name": "stdout",
          "text": [
            "Requirement already satisfied: matplotlib in /usr/local/lib/python3.10/dist-packages (3.7.1)\n",
            "Requirement already satisfied: contourpy>=1.0.1 in /usr/local/lib/python3.10/dist-packages (from matplotlib) (1.1.1)\n",
            "Requirement already satisfied: cycler>=0.10 in /usr/local/lib/python3.10/dist-packages (from matplotlib) (0.12.1)\n",
            "Requirement already satisfied: fonttools>=4.22.0 in /usr/local/lib/python3.10/dist-packages (from matplotlib) (4.43.1)\n",
            "Requirement already satisfied: kiwisolver>=1.0.1 in /usr/local/lib/python3.10/dist-packages (from matplotlib) (1.4.5)\n",
            "Requirement already satisfied: numpy>=1.20 in /usr/local/lib/python3.10/dist-packages (from matplotlib) (1.23.5)\n",
            "Requirement already satisfied: packaging>=20.0 in /usr/local/lib/python3.10/dist-packages (from matplotlib) (23.2)\n",
            "Requirement already satisfied: pillow>=6.2.0 in /usr/local/lib/python3.10/dist-packages (from matplotlib) (9.4.0)\n",
            "Requirement already satisfied: pyparsing>=2.3.1 in /usr/local/lib/python3.10/dist-packages (from matplotlib) (3.1.1)\n",
            "Requirement already satisfied: python-dateutil>=2.7 in /usr/local/lib/python3.10/dist-packages (from matplotlib) (2.8.2)\n",
            "Requirement already satisfied: six>=1.5 in /usr/local/lib/python3.10/dist-packages (from python-dateutil>=2.7->matplotlib) (1.16.0)\n"
          ]
        }
      ],
      "source": [
        "pip install matplotlib"
      ]
    },
    {
      "cell_type": "code",
      "source": [
        "import pandas as pd\n",
        "import matplotlib.pyplot as plt\n",
        "import numpy as np\n",
        "import re\n",
        "from datetime import datetime"
      ],
      "metadata": {
        "id": "6t7dYTYXlBHk"
      },
      "execution_count": 11,
      "outputs": []
    },
    {
      "cell_type": "code",
      "source": [
        "file_path = '/content/drive/MyDrive/Data Science/googleplaystore.csv'\n",
        "\n",
        "# Load the CSV file into a DataFrame\n",
        "df = pd.read_csv(file_path)"
      ],
      "metadata": {
        "id": "E8IFL2NDlDg8"
      },
      "execution_count": 12,
      "outputs": []
    },
    {
      "cell_type": "code",
      "source": [
        "# Convert to bytes\n",
        "\n",
        "def convert_to_bytes(size_str):\n",
        "    if 'M' in size_str:\n",
        "        return float(size_str.replace('M', '')) * 1000000\n",
        "    elif 'k' in size_str:\n",
        "        return float(size_str.replace('k', '')) * 1000\n",
        "    else:\n",
        "        return float(size_str.replace('Varies with device', \"NaN\"))"
      ],
      "metadata": {
        "id": "VvmFuOfplWfb"
      },
      "execution_count": 13,
      "outputs": []
    },
    {
      "cell_type": "code",
      "source": [
        "### All\n",
        "# Remove rows with any missing data (NaN)\n",
        "df = df.dropna()\n",
        "\n",
        "## App\n",
        "\n",
        "## Category\n",
        "# Delete rows where the 'Category' column has the value '1.9'\n",
        "df = df[df['Category'] != '1.9']\n",
        "\n",
        "\n",
        "## Rating\n",
        "# Delete rows where the 'Category' column has the value '1.9'\n",
        "df = df[df['Category'] != '19']\n",
        "\n",
        "## Reviews\n",
        "\n",
        "## Size\n",
        "df['Size'] = df['Size'].apply(convert_to_bytes)\n",
        "\n",
        "## Installs\n",
        "df['Installs'] = df['Installs'].str.replace(r'\\+$', '', regex=True)\n",
        "df['Installs'] = df['Installs'].str.replace(',', '', regex=True)\n",
        "\n",
        "## Price\n",
        "df['Price'] = df['Price'].str.lstrip('$*')\n",
        "\n",
        "## Last Update\n",
        "df['Last Updated'] = pd.to_datetime(df['Last Updated'])\n",
        "\n",
        "### All\n",
        "# Remove rows with any missing data (NaN)\n",
        "df = df.dropna()\n",
        "\n",
        "\n",
        "\n",
        "### Saving\n",
        "# Save the modified DataFrame back to a CSV file (optional)\n",
        "df.to_csv('/content/drive/MyDrive/Data Science/cleaned_data.csv', index=False)"
      ],
      "metadata": {
        "id": "epmmqjHhlT16"
      },
      "execution_count": 14,
      "outputs": []
    },
    {
      "cell_type": "code",
      "source": [
        "print(df)"
      ],
      "metadata": {
        "colab": {
          "base_uri": "https://localhost:8080/"
        },
        "id": "LD7l8MO1luqb",
        "outputId": "1b56e18f-3d7f-4b6b-bb0c-503af322248e"
      },
      "execution_count": 15,
      "outputs": [
        {
          "output_type": "stream",
          "name": "stdout",
          "text": [
            "                                                     App             Category  \\\n",
            "0         Photo Editor & Candy Camera & Grid & ScrapBook       ART_AND_DESIGN   \n",
            "1                                    Coloring book moana       ART_AND_DESIGN   \n",
            "2      U Launcher Lite – FREE Live Cool Themes, Hide ...       ART_AND_DESIGN   \n",
            "3                                  Sketch - Draw & Paint       ART_AND_DESIGN   \n",
            "4                  Pixel Draw - Number Art Coloring Book       ART_AND_DESIGN   \n",
            "...                                                  ...                  ...   \n",
            "10833                                        Chemin (fr)  BOOKS_AND_REFERENCE   \n",
            "10834                                      FR Calculator               FAMILY   \n",
            "10836                                   Sya9a Maroc - FR               FAMILY   \n",
            "10837                   Fr. Mike Schmitz Audio Teachings               FAMILY   \n",
            "10840      iHoroscope - 2018 Daily Horoscope & Astrology            LIFESTYLE   \n",
            "\n",
            "       Rating Reviews        Size  Installs  Type Price Content Rating  \\\n",
            "0         4.1     159  19000000.0     10000  Free     0       Everyone   \n",
            "1         3.9     967  14000000.0    500000  Free     0       Everyone   \n",
            "2         4.7   87510   8700000.0   5000000  Free     0       Everyone   \n",
            "3         4.5  215644  25000000.0  50000000  Free     0           Teen   \n",
            "4         4.3     967   2800000.0    100000  Free     0       Everyone   \n",
            "...       ...     ...         ...       ...   ...   ...            ...   \n",
            "10833     4.8      44    619000.0      1000  Free     0       Everyone   \n",
            "10834     4.0       7   2600000.0       500  Free     0       Everyone   \n",
            "10836     4.5      38  53000000.0      5000  Free     0       Everyone   \n",
            "10837     5.0       4   3600000.0       100  Free     0       Everyone   \n",
            "10840     4.5  398307  19000000.0  10000000  Free     0       Everyone   \n",
            "\n",
            "                          Genres Last Updated         Current Ver  \\\n",
            "0                   Art & Design   2018-01-07               1.0.0   \n",
            "1      Art & Design;Pretend Play   2018-01-15               2.0.0   \n",
            "2                   Art & Design   2018-08-01               1.2.4   \n",
            "3                   Art & Design   2018-06-08  Varies with device   \n",
            "4        Art & Design;Creativity   2018-06-20                 1.1   \n",
            "...                          ...          ...                 ...   \n",
            "10833          Books & Reference   2014-03-23                 0.8   \n",
            "10834                  Education   2017-06-18               1.0.0   \n",
            "10836                  Education   2017-07-25                1.48   \n",
            "10837                  Education   2018-07-06                 1.0   \n",
            "10840                  Lifestyle   2018-07-25  Varies with device   \n",
            "\n",
            "              Android Ver  \n",
            "0            4.0.3 and up  \n",
            "1            4.0.3 and up  \n",
            "2            4.0.3 and up  \n",
            "3              4.2 and up  \n",
            "4              4.4 and up  \n",
            "...                   ...  \n",
            "10833          2.2 and up  \n",
            "10834          4.1 and up  \n",
            "10836          4.1 and up  \n",
            "10837          4.1 and up  \n",
            "10840  Varies with device  \n",
            "\n",
            "[7723 rows x 13 columns]\n",
            "7723\n"
          ]
        }
      ]
    }
  ]
}